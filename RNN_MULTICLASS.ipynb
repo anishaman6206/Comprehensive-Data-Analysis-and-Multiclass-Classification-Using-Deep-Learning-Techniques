{
 "cells": [
  {
   "cell_type": "code",
   "execution_count": 1,
   "id": "f3dcb163-55e6-4a65-a845-2073b1b0d1c3",
   "metadata": {},
   "outputs": [],
   "source": [
    "import pandas as pd\n",
    "import numpy as np\n",
    "import seaborn as sns\n",
    "import matplotlib.pyplot as plt"
   ]
  },
  {
   "cell_type": "markdown",
   "id": "da9ac020-8001-4aac-a5f3-eddaeb6a00c3",
   "metadata": {},
   "source": [
    "### Importing saved data, analyzed on LSTM model code"
   ]
  },
  {
   "cell_type": "code",
   "execution_count": 2,
   "id": "45ebd2f9-6082-44f1-bf77-97b2dbd5da37",
   "metadata": {},
   "outputs": [],
   "source": [
    "df=pd.read_csv('clean_df_MULTICLASS.csv')"
   ]
  },
  {
   "cell_type": "code",
   "execution_count": 3,
   "id": "97ad5801-838a-469f-892c-8f325100a6cd",
   "metadata": {},
   "outputs": [],
   "source": [
    "df.drop(columns='Unnamed: 0', inplace=True)"
   ]
  },
  {
   "cell_type": "code",
   "execution_count": 4,
   "id": "8750497a-3aae-492f-b941-d4dd5ab006bf",
   "metadata": {},
   "outputs": [
    {
     "data": {
      "text/html": [
       "<div>\n",
       "<style scoped>\n",
       "    .dataframe tbody tr th:only-of-type {\n",
       "        vertical-align: middle;\n",
       "    }\n",
       "\n",
       "    .dataframe tbody tr th {\n",
       "        vertical-align: top;\n",
       "    }\n",
       "\n",
       "    .dataframe thead th {\n",
       "        text-align: right;\n",
       "    }\n",
       "</style>\n",
       "<table border=\"1\" class=\"dataframe\">\n",
       "  <thead>\n",
       "    <tr style=\"text-align: right;\">\n",
       "      <th></th>\n",
       "      <th>CAT1</th>\n",
       "      <th>ORD1</th>\n",
       "      <th>ORD2</th>\n",
       "      <th>ORD3</th>\n",
       "      <th>ORD4</th>\n",
       "      <th>ORD5</th>\n",
       "      <th>ORD6</th>\n",
       "      <th>ORD7</th>\n",
       "      <th>ORD8</th>\n",
       "      <th>ORD9</th>\n",
       "      <th>ORD10</th>\n",
       "      <th>ORD11</th>\n",
       "      <th>ORD12</th>\n",
       "      <th>PRICE</th>\n",
       "    </tr>\n",
       "  </thead>\n",
       "  <tbody>\n",
       "    <tr>\n",
       "      <th>0</th>\n",
       "      <td>0</td>\n",
       "      <td>0.00632</td>\n",
       "      <td>18.0</td>\n",
       "      <td>2.31</td>\n",
       "      <td>0.538</td>\n",
       "      <td>6.575</td>\n",
       "      <td>65.2</td>\n",
       "      <td>4.090</td>\n",
       "      <td>1</td>\n",
       "      <td>296</td>\n",
       "      <td>15.3</td>\n",
       "      <td>396.90</td>\n",
       "      <td>4.98</td>\n",
       "      <td>2</td>\n",
       "    </tr>\n",
       "    <tr>\n",
       "      <th>1</th>\n",
       "      <td>0</td>\n",
       "      <td>0.02731</td>\n",
       "      <td>0.0</td>\n",
       "      <td>7.07</td>\n",
       "      <td>0.469</td>\n",
       "      <td>6.421</td>\n",
       "      <td>78.9</td>\n",
       "      <td>4.967</td>\n",
       "      <td>2</td>\n",
       "      <td>242</td>\n",
       "      <td>17.8</td>\n",
       "      <td>396.90</td>\n",
       "      <td>9.14</td>\n",
       "      <td>1</td>\n",
       "    </tr>\n",
       "    <tr>\n",
       "      <th>2</th>\n",
       "      <td>0</td>\n",
       "      <td>0.02729</td>\n",
       "      <td>0.0</td>\n",
       "      <td>7.07</td>\n",
       "      <td>0.469</td>\n",
       "      <td>7.185</td>\n",
       "      <td>61.1</td>\n",
       "      <td>4.967</td>\n",
       "      <td>2</td>\n",
       "      <td>242</td>\n",
       "      <td>17.8</td>\n",
       "      <td>392.83</td>\n",
       "      <td>4.03</td>\n",
       "      <td>2</td>\n",
       "    </tr>\n",
       "    <tr>\n",
       "      <th>3</th>\n",
       "      <td>0</td>\n",
       "      <td>0.03237</td>\n",
       "      <td>0.0</td>\n",
       "      <td>2.18</td>\n",
       "      <td>0.458</td>\n",
       "      <td>6.998</td>\n",
       "      <td>45.8</td>\n",
       "      <td>6.062</td>\n",
       "      <td>3</td>\n",
       "      <td>222</td>\n",
       "      <td>18.7</td>\n",
       "      <td>394.63</td>\n",
       "      <td>2.94</td>\n",
       "      <td>2</td>\n",
       "    </tr>\n",
       "    <tr>\n",
       "      <th>4</th>\n",
       "      <td>0</td>\n",
       "      <td>0.06905</td>\n",
       "      <td>0.0</td>\n",
       "      <td>2.18</td>\n",
       "      <td>0.458</td>\n",
       "      <td>7.147</td>\n",
       "      <td>54.2</td>\n",
       "      <td>6.062</td>\n",
       "      <td>3</td>\n",
       "      <td>222</td>\n",
       "      <td>18.7</td>\n",
       "      <td>396.90</td>\n",
       "      <td>5.33</td>\n",
       "      <td>2</td>\n",
       "    </tr>\n",
       "    <tr>\n",
       "      <th>...</th>\n",
       "      <td>...</td>\n",
       "      <td>...</td>\n",
       "      <td>...</td>\n",
       "      <td>...</td>\n",
       "      <td>...</td>\n",
       "      <td>...</td>\n",
       "      <td>...</td>\n",
       "      <td>...</td>\n",
       "      <td>...</td>\n",
       "      <td>...</td>\n",
       "      <td>...</td>\n",
       "      <td>...</td>\n",
       "      <td>...</td>\n",
       "      <td>...</td>\n",
       "    </tr>\n",
       "    <tr>\n",
       "      <th>1007</th>\n",
       "      <td>0</td>\n",
       "      <td>0.06263</td>\n",
       "      <td>0.0</td>\n",
       "      <td>11.93</td>\n",
       "      <td>0.573</td>\n",
       "      <td>6.593</td>\n",
       "      <td>69.1</td>\n",
       "      <td>2.479</td>\n",
       "      <td>1</td>\n",
       "      <td>273</td>\n",
       "      <td>21.0</td>\n",
       "      <td>391.99</td>\n",
       "      <td>9.67</td>\n",
       "      <td>1</td>\n",
       "    </tr>\n",
       "    <tr>\n",
       "      <th>1008</th>\n",
       "      <td>0</td>\n",
       "      <td>0.04527</td>\n",
       "      <td>0.0</td>\n",
       "      <td>11.93</td>\n",
       "      <td>0.573</td>\n",
       "      <td>6.120</td>\n",
       "      <td>76.7</td>\n",
       "      <td>2.288</td>\n",
       "      <td>1</td>\n",
       "      <td>273</td>\n",
       "      <td>21.0</td>\n",
       "      <td>396.90</td>\n",
       "      <td>9.08</td>\n",
       "      <td>1</td>\n",
       "    </tr>\n",
       "    <tr>\n",
       "      <th>1009</th>\n",
       "      <td>0</td>\n",
       "      <td>0.06076</td>\n",
       "      <td>0.0</td>\n",
       "      <td>11.93</td>\n",
       "      <td>0.573</td>\n",
       "      <td>6.976</td>\n",
       "      <td>91.0</td>\n",
       "      <td>2.168</td>\n",
       "      <td>1</td>\n",
       "      <td>273</td>\n",
       "      <td>21.0</td>\n",
       "      <td>396.90</td>\n",
       "      <td>5.64</td>\n",
       "      <td>2</td>\n",
       "    </tr>\n",
       "    <tr>\n",
       "      <th>1010</th>\n",
       "      <td>0</td>\n",
       "      <td>0.10959</td>\n",
       "      <td>0.0</td>\n",
       "      <td>11.93</td>\n",
       "      <td>0.573</td>\n",
       "      <td>6.794</td>\n",
       "      <td>89.3</td>\n",
       "      <td>2.389</td>\n",
       "      <td>1</td>\n",
       "      <td>273</td>\n",
       "      <td>21.0</td>\n",
       "      <td>393.45</td>\n",
       "      <td>6.48</td>\n",
       "      <td>1</td>\n",
       "    </tr>\n",
       "    <tr>\n",
       "      <th>1011</th>\n",
       "      <td>0</td>\n",
       "      <td>0.04741</td>\n",
       "      <td>0.0</td>\n",
       "      <td>11.93</td>\n",
       "      <td>0.573</td>\n",
       "      <td>6.030</td>\n",
       "      <td>80.8</td>\n",
       "      <td>2.505</td>\n",
       "      <td>1</td>\n",
       "      <td>273</td>\n",
       "      <td>21.0</td>\n",
       "      <td>396.90</td>\n",
       "      <td>7.88</td>\n",
       "      <td>0</td>\n",
       "    </tr>\n",
       "  </tbody>\n",
       "</table>\n",
       "<p>1012 rows × 14 columns</p>\n",
       "</div>"
      ],
      "text/plain": [
       "      CAT1     ORD1  ORD2   ORD3   ORD4   ORD5  ORD6   ORD7  ORD8  ORD9  \\\n",
       "0        0  0.00632  18.0   2.31  0.538  6.575  65.2  4.090     1   296   \n",
       "1        0  0.02731   0.0   7.07  0.469  6.421  78.9  4.967     2   242   \n",
       "2        0  0.02729   0.0   7.07  0.469  7.185  61.1  4.967     2   242   \n",
       "3        0  0.03237   0.0   2.18  0.458  6.998  45.8  6.062     3   222   \n",
       "4        0  0.06905   0.0   2.18  0.458  7.147  54.2  6.062     3   222   \n",
       "...    ...      ...   ...    ...    ...    ...   ...    ...   ...   ...   \n",
       "1007     0  0.06263   0.0  11.93  0.573  6.593  69.1  2.479     1   273   \n",
       "1008     0  0.04527   0.0  11.93  0.573  6.120  76.7  2.288     1   273   \n",
       "1009     0  0.06076   0.0  11.93  0.573  6.976  91.0  2.168     1   273   \n",
       "1010     0  0.10959   0.0  11.93  0.573  6.794  89.3  2.389     1   273   \n",
       "1011     0  0.04741   0.0  11.93  0.573  6.030  80.8  2.505     1   273   \n",
       "\n",
       "      ORD10   ORD11  ORD12  PRICE  \n",
       "0      15.3  396.90   4.98      2  \n",
       "1      17.8  396.90   9.14      1  \n",
       "2      17.8  392.83   4.03      2  \n",
       "3      18.7  394.63   2.94      2  \n",
       "4      18.7  396.90   5.33      2  \n",
       "...     ...     ...    ...    ...  \n",
       "1007   21.0  391.99   9.67      1  \n",
       "1008   21.0  396.90   9.08      1  \n",
       "1009   21.0  396.90   5.64      2  \n",
       "1010   21.0  393.45   6.48      1  \n",
       "1011   21.0  396.90   7.88      0  \n",
       "\n",
       "[1012 rows x 14 columns]"
      ]
     },
     "execution_count": 4,
     "metadata": {},
     "output_type": "execute_result"
    }
   ],
   "source": [
    "df"
   ]
  },
  {
   "cell_type": "markdown",
   "id": "eccc601a-e010-48ad-a2cb-a34730c221cc",
   "metadata": {},
   "source": [
    "### Train,test,split"
   ]
  },
  {
   "cell_type": "code",
   "execution_count": 5,
   "id": "4a004e06-885e-43f2-ad6a-b92568a96b87",
   "metadata": {},
   "outputs": [],
   "source": [
    "from sklearn.model_selection import train_test_split\n",
    "X_train, X_test, y_train, y_test = train_test_split(df.iloc[:,0:13],df.iloc[:,-1],test_size=0.2,random_state=42)"
   ]
  },
  {
   "cell_type": "code",
   "execution_count": 6,
   "id": "7ccf8b06-cc81-4fe7-9df9-69b26584db23",
   "metadata": {},
   "outputs": [
    {
     "data": {
      "text/plain": [
       "((809, 13), (203, 13), (809,), (203,))"
      ]
     },
     "execution_count": 6,
     "metadata": {},
     "output_type": "execute_result"
    }
   ],
   "source": [
    "X_train.shape, X_test.shape, y_train.shape, y_test.shape"
   ]
  },
  {
   "cell_type": "markdown",
   "id": "7e9ccaea-9f11-4883-ac7d-bdc29410cc77",
   "metadata": {},
   "source": [
    "### Making k-1 dummy variable of 'ORD8' categorical column using OneHotEncoder since nominal data"
   ]
  },
  {
   "cell_type": "code",
   "execution_count": 7,
   "id": "b476af9d-8790-4037-b7d3-628ad69c5249",
   "metadata": {},
   "outputs": [],
   "source": [
    "from sklearn.preprocessing import OneHotEncoder\n",
    "from sklearn.compose import ColumnTransformer\n",
    "transformer = ColumnTransformer(transformers=[\n",
    "    ('tnf1' ,OneHotEncoder(sparse_output=False,drop='first'),['ORD8'])\n",
    "     ],remainder='passthrough')"
   ]
  },
  {
   "cell_type": "code",
   "execution_count": 8,
   "id": "7c19c948-799a-4b56-99dd-57508cde4f43",
   "metadata": {},
   "outputs": [],
   "source": [
    "X_train_new = transformer.fit_transform(X_train)\n",
    "X_test_new = transformer.transform(X_test)"
   ]
  },
  {
   "cell_type": "code",
   "execution_count": 9,
   "id": "61808728-1c59-48ca-9ad4-7cad98f5f685",
   "metadata": {},
   "outputs": [
    {
     "data": {
      "text/plain": [
       "((809, 20), (203, 20), (809,), (203,))"
      ]
     },
     "execution_count": 9,
     "metadata": {},
     "output_type": "execute_result"
    }
   ],
   "source": [
    "X_train_new.shape, X_test_new.shape, y_train.shape, y_test.shape"
   ]
  },
  {
   "cell_type": "markdown",
   "id": "5f84555e-aa31-4a7b-a7b8-824059141cd5",
   "metadata": {},
   "source": [
    "### Normalizing data"
   ]
  },
  {
   "cell_type": "code",
   "execution_count": 10,
   "id": "2d5537bf-999c-4b7f-9124-80ae9b644c62",
   "metadata": {},
   "outputs": [],
   "source": [
    "from sklearn.preprocessing import StandardScaler\n",
    "scaler = StandardScaler()\n",
    "X_train_scaled = scaler.fit_transform(X_train_new)\n",
    "X_test_scaled = scaler.transform(X_test_new)"
   ]
  },
  {
   "cell_type": "markdown",
   "id": "4ea72667-4b99-4ff1-a98b-fb2af4d8dd16",
   "metadata": {},
   "source": [
    "### Reshape data for RNN [samples, timesteps, features]"
   ]
  },
  {
   "cell_type": "code",
   "execution_count": 11,
   "id": "3ece0025-2086-4a2b-af86-00333634e980",
   "metadata": {},
   "outputs": [],
   "source": [
    "X_train_reshaped = X_train_scaled.reshape((X_train_scaled.shape[0], X_train_scaled.shape[1], 1))\n",
    "X_test_reshaped = X_test_scaled.reshape((X_test_scaled.shape[0], X_test_scaled.shape[1], 1))"
   ]
  },
  {
   "cell_type": "markdown",
   "id": "16231027-3901-4648-b528-98dca33f08f3",
   "metadata": {},
   "source": [
    "### RNN MODEL"
   ]
  },
  {
   "cell_type": "code",
   "execution_count": 13,
   "id": "67586b62-3a62-47fa-8fb1-952013cf3f79",
   "metadata": {},
   "outputs": [],
   "source": [
    "from tensorflow.keras.models import Sequential\n",
    "from tensorflow.keras.layers import SimpleRNN, Dense, Dropout\n",
    "model = Sequential()\n",
    "model.add(SimpleRNN(50, activation='relu', input_shape=(X_train_reshaped.shape[1], 1)))\n",
    "model.add(Dropout(0.2))\n",
    "model.add(Dense(20, activation='relu'))\n",
    "model.add(Dense(3, activation='softmax'))"
   ]
  },
  {
   "cell_type": "code",
   "execution_count": 14,
   "id": "409e9280-b805-4cc5-92d6-59799a8c384d",
   "metadata": {},
   "outputs": [],
   "source": [
    "from tensorflow.keras.optimizers import Adam\n",
    "model.compile(optimizer=Adam(learning_rate=0.001), loss='sparse_categorical_crossentropy', metrics=['accuracy'])"
   ]
  },
  {
   "cell_type": "markdown",
   "id": "e8315f77-a380-44a6-a192-2b435067022b",
   "metadata": {},
   "source": [
    "### callbacks"
   ]
  },
  {
   "cell_type": "code",
   "execution_count": 15,
   "id": "56260680-4f3c-4c3f-92b0-54f6a96447ad",
   "metadata": {},
   "outputs": [],
   "source": [
    "from tensorflow.keras.callbacks import ModelCheckpoint, EarlyStopping\n",
    "checkpoint = ModelCheckpoint('best_model_RNN_multiclass.h5', monitor='val_loss', save_best_only=True, mode='min',verbose=1)\n",
    "early_stopping = EarlyStopping(monitor='val_loss', patience=20, restore_best_weights=True)"
   ]
  },
  {
   "cell_type": "markdown",
   "id": "cf74e1b8-eba6-419b-883a-9dbee64f5644",
   "metadata": {},
   "source": [
    "### Train the model"
   ]
  },
  {
   "cell_type": "code",
   "execution_count": 16,
   "id": "757b3bf6-ac63-4ffb-863a-a8d2572a9b73",
   "metadata": {},
   "outputs": [
    {
     "name": "stdout",
     "output_type": "stream",
     "text": [
      "Epoch 1/100\n",
      "21/21 [==============================] - ETA: 0s - loss: 1.0038 - accuracy: 0.4745\n",
      "Epoch 1: val_loss improved from inf to 0.89775, saving model to best_model_RNN_multiclass.h5\n",
      "21/21 [==============================] - 5s 66ms/step - loss: 1.0038 - accuracy: 0.4745 - val_loss: 0.8977 - val_accuracy: 0.5617\n",
      "Epoch 2/100\n",
      "20/21 [===========================>..] - ETA: 0s - loss: 0.8172 - accuracy: 0.6047\n",
      "Epoch 2: val_loss improved from 0.89775 to 0.78201, saving model to best_model_RNN_multiclass.h5\n",
      "21/21 [==============================] - 1s 36ms/step - loss: 0.8156 - accuracy: 0.6059 - val_loss: 0.7820 - val_accuracy: 0.5926\n",
      "Epoch 3/100\n",
      "20/21 [===========================>..] - ETA: 0s - loss: 0.7366 - accuracy: 0.6562\n",
      "Epoch 3: val_loss improved from 0.78201 to 0.70800, saving model to best_model_RNN_multiclass.h5\n",
      "21/21 [==============================] - 1s 32ms/step - loss: 0.7354 - accuracy: 0.6584 - val_loss: 0.7080 - val_accuracy: 0.7099\n",
      "Epoch 4/100\n",
      "21/21 [==============================] - ETA: 0s - loss: 0.6803 - accuracy: 0.7017\n",
      "Epoch 4: val_loss improved from 0.70800 to 0.67089, saving model to best_model_RNN_multiclass.h5\n",
      "21/21 [==============================] - 1s 37ms/step - loss: 0.6803 - accuracy: 0.7017 - val_loss: 0.6709 - val_accuracy: 0.7037\n",
      "Epoch 5/100\n",
      "20/21 [===========================>..] - ETA: 0s - loss: 0.6351 - accuracy: 0.7000\n",
      "Epoch 5: val_loss improved from 0.67089 to 0.60305, saving model to best_model_RNN_multiclass.h5\n",
      "21/21 [==============================] - 1s 32ms/step - loss: 0.6360 - accuracy: 0.7017 - val_loss: 0.6031 - val_accuracy: 0.7531\n",
      "Epoch 6/100\n",
      "19/21 [==========================>...] - ETA: 0s - loss: 0.6036 - accuracy: 0.7434\n",
      "Epoch 6: val_loss did not improve from 0.60305\n",
      "21/21 [==============================] - 1s 30ms/step - loss: 0.6074 - accuracy: 0.7388 - val_loss: 0.6149 - val_accuracy: 0.6914\n",
      "Epoch 7/100\n",
      "20/21 [===========================>..] - ETA: 0s - loss: 0.5963 - accuracy: 0.7344\n",
      "Epoch 7: val_loss improved from 0.60305 to 0.57559, saving model to best_model_RNN_multiclass.h5\n",
      "21/21 [==============================] - 1s 33ms/step - loss: 0.5992 - accuracy: 0.7342 - val_loss: 0.5756 - val_accuracy: 0.7716\n",
      "Epoch 8/100\n",
      "19/21 [==========================>...] - ETA: 0s - loss: 0.5648 - accuracy: 0.7747\n",
      "Epoch 8: val_loss improved from 0.57559 to 0.50753, saving model to best_model_RNN_multiclass.h5\n",
      "21/21 [==============================] - 1s 34ms/step - loss: 0.5662 - accuracy: 0.7682 - val_loss: 0.5075 - val_accuracy: 0.7778\n",
      "Epoch 9/100\n",
      "19/21 [==========================>...] - ETA: 0s - loss: 0.5487 - accuracy: 0.7697\n",
      "Epoch 9: val_loss improved from 0.50753 to 0.49887, saving model to best_model_RNN_multiclass.h5\n",
      "21/21 [==============================] - 1s 35ms/step - loss: 0.5510 - accuracy: 0.7713 - val_loss: 0.4989 - val_accuracy: 0.7654\n",
      "Epoch 10/100\n",
      "21/21 [==============================] - ETA: 0s - loss: 0.5179 - accuracy: 0.7991\n",
      "Epoch 10: val_loss did not improve from 0.49887\n",
      "21/21 [==============================] - 1s 29ms/step - loss: 0.5179 - accuracy: 0.7991 - val_loss: 0.5283 - val_accuracy: 0.7531\n",
      "Epoch 11/100\n",
      "19/21 [==========================>...] - ETA: 0s - loss: 0.5072 - accuracy: 0.7944\n",
      "Epoch 11: val_loss improved from 0.49887 to 0.46982, saving model to best_model_RNN_multiclass.h5\n",
      "21/21 [==============================] - 1s 32ms/step - loss: 0.4986 - accuracy: 0.7960 - val_loss: 0.4698 - val_accuracy: 0.7840\n",
      "Epoch 12/100\n",
      "21/21 [==============================] - ETA: 0s - loss: 0.5128 - accuracy: 0.7975\n",
      "Epoch 12: val_loss improved from 0.46982 to 0.45757, saving model to best_model_RNN_multiclass.h5\n",
      "21/21 [==============================] - 1s 33ms/step - loss: 0.5128 - accuracy: 0.7975 - val_loss: 0.4576 - val_accuracy: 0.7963\n",
      "Epoch 13/100\n",
      "21/21 [==============================] - ETA: 0s - loss: 0.4636 - accuracy: 0.8161\n",
      "Epoch 13: val_loss did not improve from 0.45757\n",
      "21/21 [==============================] - 1s 37ms/step - loss: 0.4636 - accuracy: 0.8161 - val_loss: 0.4681 - val_accuracy: 0.7901\n",
      "Epoch 14/100\n",
      "20/21 [===========================>..] - ETA: 0s - loss: 0.4605 - accuracy: 0.8141\n",
      "Epoch 14: val_loss did not improve from 0.45757\n",
      "21/21 [==============================] - 1s 32ms/step - loss: 0.4589 - accuracy: 0.8145 - val_loss: 0.4795 - val_accuracy: 0.7901\n",
      "Epoch 15/100\n",
      "20/21 [===========================>..] - ETA: 0s - loss: 0.4829 - accuracy: 0.8000\n",
      "Epoch 15: val_loss improved from 0.45757 to 0.42882, saving model to best_model_RNN_multiclass.h5\n",
      "21/21 [==============================] - 1s 34ms/step - loss: 0.4807 - accuracy: 0.8006 - val_loss: 0.4288 - val_accuracy: 0.8148\n",
      "Epoch 16/100\n",
      "20/21 [===========================>..] - ETA: 0s - loss: 0.4496 - accuracy: 0.8062\n",
      "Epoch 16: val_loss did not improve from 0.42882\n",
      "21/21 [==============================] - 1s 30ms/step - loss: 0.4461 - accuracy: 0.8083 - val_loss: 0.4318 - val_accuracy: 0.8086\n",
      "Epoch 17/100\n",
      "21/21 [==============================] - ETA: 0s - loss: 0.4590 - accuracy: 0.8130\n",
      "Epoch 17: val_loss improved from 0.42882 to 0.41518, saving model to best_model_RNN_multiclass.h5\n",
      "21/21 [==============================] - 1s 34ms/step - loss: 0.4590 - accuracy: 0.8130 - val_loss: 0.4152 - val_accuracy: 0.8148\n",
      "Epoch 18/100\n",
      "20/21 [===========================>..] - ETA: 0s - loss: 0.4612 - accuracy: 0.8188\n",
      "Epoch 18: val_loss did not improve from 0.41518\n",
      "21/21 [==============================] - 1s 32ms/step - loss: 0.4594 - accuracy: 0.8192 - val_loss: 0.4467 - val_accuracy: 0.8086\n",
      "Epoch 19/100\n",
      "20/21 [===========================>..] - ETA: 0s - loss: 0.4463 - accuracy: 0.8203\n",
      "Epoch 19: val_loss did not improve from 0.41518\n",
      "21/21 [==============================] - 1s 31ms/step - loss: 0.4461 - accuracy: 0.8192 - val_loss: 0.4274 - val_accuracy: 0.8148\n",
      "Epoch 20/100\n",
      "21/21 [==============================] - ETA: 0s - loss: 0.4353 - accuracy: 0.8253\n",
      "Epoch 20: val_loss did not improve from 0.41518\n",
      "21/21 [==============================] - 1s 34ms/step - loss: 0.4353 - accuracy: 0.8253 - val_loss: 0.4390 - val_accuracy: 0.8333\n",
      "Epoch 21/100\n",
      "19/21 [==========================>...] - ETA: 0s - loss: 0.4181 - accuracy: 0.8438\n",
      "Epoch 21: val_loss improved from 0.41518 to 0.40970, saving model to best_model_RNN_multiclass.h5\n",
      "21/21 [==============================] - 1s 38ms/step - loss: 0.4234 - accuracy: 0.8393 - val_loss: 0.4097 - val_accuracy: 0.8148\n",
      "Epoch 22/100\n",
      "20/21 [===========================>..] - ETA: 0s - loss: 0.4160 - accuracy: 0.8297\n",
      "Epoch 22: val_loss improved from 0.40970 to 0.40487, saving model to best_model_RNN_multiclass.h5\n",
      "21/21 [==============================] - 1s 31ms/step - loss: 0.4153 - accuracy: 0.8315 - val_loss: 0.4049 - val_accuracy: 0.8580\n",
      "Epoch 23/100\n",
      "20/21 [===========================>..] - ETA: 0s - loss: 0.3989 - accuracy: 0.8391\n",
      "Epoch 23: val_loss improved from 0.40487 to 0.40455, saving model to best_model_RNN_multiclass.h5\n",
      "21/21 [==============================] - 1s 34ms/step - loss: 0.3985 - accuracy: 0.8393 - val_loss: 0.4045 - val_accuracy: 0.8210\n",
      "Epoch 24/100\n",
      "20/21 [===========================>..] - ETA: 0s - loss: 0.3886 - accuracy: 0.8422\n",
      "Epoch 24: val_loss did not improve from 0.40455\n",
      "21/21 [==============================] - 1s 30ms/step - loss: 0.3897 - accuracy: 0.8408 - val_loss: 0.4225 - val_accuracy: 0.8148\n",
      "Epoch 25/100\n",
      "21/21 [==============================] - ETA: 0s - loss: 0.3912 - accuracy: 0.8346\n",
      "Epoch 25: val_loss improved from 0.40455 to 0.40114, saving model to best_model_RNN_multiclass.h5\n",
      "21/21 [==============================] - 1s 33ms/step - loss: 0.3912 - accuracy: 0.8346 - val_loss: 0.4011 - val_accuracy: 0.8395\n",
      "Epoch 26/100\n",
      "20/21 [===========================>..] - ETA: 0s - loss: 0.3978 - accuracy: 0.8297\n",
      "Epoch 26: val_loss improved from 0.40114 to 0.39445, saving model to best_model_RNN_multiclass.h5\n",
      "21/21 [==============================] - 1s 33ms/step - loss: 0.3970 - accuracy: 0.8300 - val_loss: 0.3945 - val_accuracy: 0.8333\n",
      "Epoch 27/100\n",
      "21/21 [==============================] - ETA: 0s - loss: 0.3824 - accuracy: 0.8501\n",
      "Epoch 27: val_loss improved from 0.39445 to 0.39027, saving model to best_model_RNN_multiclass.h5\n",
      "21/21 [==============================] - 1s 33ms/step - loss: 0.3824 - accuracy: 0.8501 - val_loss: 0.3903 - val_accuracy: 0.8580\n",
      "Epoch 28/100\n",
      "19/21 [==========================>...] - ETA: 0s - loss: 0.3905 - accuracy: 0.8388\n",
      "Epoch 28: val_loss did not improve from 0.39027\n",
      "21/21 [==============================] - 1s 33ms/step - loss: 0.3877 - accuracy: 0.8439 - val_loss: 0.4305 - val_accuracy: 0.8086\n",
      "Epoch 29/100\n",
      "21/21 [==============================] - ETA: 0s - loss: 0.3802 - accuracy: 0.8470\n",
      "Epoch 29: val_loss improved from 0.39027 to 0.37496, saving model to best_model_RNN_multiclass.h5\n",
      "21/21 [==============================] - 1s 34ms/step - loss: 0.3802 - accuracy: 0.8470 - val_loss: 0.3750 - val_accuracy: 0.8580\n",
      "Epoch 30/100\n",
      "19/21 [==========================>...] - ETA: 0s - loss: 0.3697 - accuracy: 0.8454\n",
      "Epoch 30: val_loss did not improve from 0.37496\n",
      "21/21 [==============================] - 1s 30ms/step - loss: 0.3666 - accuracy: 0.8439 - val_loss: 0.4196 - val_accuracy: 0.8457\n",
      "Epoch 31/100\n",
      "20/21 [===========================>..] - ETA: 0s - loss: 0.3751 - accuracy: 0.8375\n",
      "Epoch 31: val_loss did not improve from 0.37496\n",
      "21/21 [==============================] - 1s 29ms/step - loss: 0.3723 - accuracy: 0.8393 - val_loss: 0.4401 - val_accuracy: 0.8333\n",
      "Epoch 32/100\n",
      "20/21 [===========================>..] - ETA: 0s - loss: 0.3942 - accuracy: 0.8391\n",
      "Epoch 32: val_loss did not improve from 0.37496\n",
      "21/21 [==============================] - 1s 29ms/step - loss: 0.3928 - accuracy: 0.8393 - val_loss: 0.4337 - val_accuracy: 0.8272\n",
      "Epoch 33/100\n",
      "20/21 [===========================>..] - ETA: 0s - loss: 0.3556 - accuracy: 0.8500\n",
      "Epoch 33: val_loss did not improve from 0.37496\n",
      "21/21 [==============================] - 1s 28ms/step - loss: 0.3526 - accuracy: 0.8516 - val_loss: 0.4227 - val_accuracy: 0.8272\n",
      "Epoch 34/100\n",
      "21/21 [==============================] - ETA: 0s - loss: 0.3294 - accuracy: 0.8702\n",
      "Epoch 34: val_loss did not improve from 0.37496\n",
      "21/21 [==============================] - 1s 30ms/step - loss: 0.3294 - accuracy: 0.8702 - val_loss: 0.4019 - val_accuracy: 0.8333\n",
      "Epoch 35/100\n",
      "21/21 [==============================] - ETA: 0s - loss: 0.3321 - accuracy: 0.8640\n",
      "Epoch 35: val_loss did not improve from 0.37496\n",
      "21/21 [==============================] - 1s 31ms/step - loss: 0.3321 - accuracy: 0.8640 - val_loss: 0.3856 - val_accuracy: 0.8519\n",
      "Epoch 36/100\n",
      "19/21 [==========================>...] - ETA: 0s - loss: 0.3012 - accuracy: 0.8783\n",
      "Epoch 36: val_loss did not improve from 0.37496\n",
      "21/21 [==============================] - 1s 29ms/step - loss: 0.3092 - accuracy: 0.8733 - val_loss: 0.3799 - val_accuracy: 0.8642\n",
      "Epoch 37/100\n",
      "21/21 [==============================] - ETA: 0s - loss: 0.3195 - accuracy: 0.8578\n",
      "Epoch 37: val_loss did not improve from 0.37496\n",
      "21/21 [==============================] - 1s 29ms/step - loss: 0.3195 - accuracy: 0.8578 - val_loss: 0.3877 - val_accuracy: 0.8333\n",
      "Epoch 38/100\n",
      "19/21 [==========================>...] - ETA: 0s - loss: 0.2876 - accuracy: 0.8734\n",
      "Epoch 38: val_loss improved from 0.37496 to 0.35768, saving model to best_model_RNN_multiclass.h5\n",
      "21/21 [==============================] - 1s 33ms/step - loss: 0.3012 - accuracy: 0.8671 - val_loss: 0.3577 - val_accuracy: 0.8642\n",
      "Epoch 39/100\n",
      "20/21 [===========================>..] - ETA: 0s - loss: 0.3180 - accuracy: 0.8641\n",
      "Epoch 39: val_loss did not improve from 0.35768\n",
      "21/21 [==============================] - 1s 33ms/step - loss: 0.3167 - accuracy: 0.8640 - val_loss: 0.3753 - val_accuracy: 0.8457\n",
      "Epoch 40/100\n",
      "19/21 [==========================>...] - ETA: 0s - loss: 0.2954 - accuracy: 0.8766\n",
      "Epoch 40: val_loss did not improve from 0.35768\n",
      "21/21 [==============================] - 1s 28ms/step - loss: 0.2951 - accuracy: 0.8779 - val_loss: 0.4167 - val_accuracy: 0.8086\n",
      "Epoch 41/100\n",
      "20/21 [===========================>..] - ETA: 0s - loss: 0.2916 - accuracy: 0.8859\n",
      "Epoch 41: val_loss did not improve from 0.35768\n",
      "21/21 [==============================] - 1s 30ms/step - loss: 0.2896 - accuracy: 0.8872 - val_loss: 0.4372 - val_accuracy: 0.8333\n",
      "Epoch 42/100\n",
      "20/21 [===========================>..] - ETA: 0s - loss: 0.2913 - accuracy: 0.8797\n",
      "Epoch 42: val_loss did not improve from 0.35768\n",
      "21/21 [==============================] - 1s 31ms/step - loss: 0.2910 - accuracy: 0.8794 - val_loss: 0.3678 - val_accuracy: 0.8519\n",
      "Epoch 43/100\n",
      "21/21 [==============================] - ETA: 0s - loss: 0.3183 - accuracy: 0.8702\n",
      "Epoch 43: val_loss did not improve from 0.35768\n",
      "21/21 [==============================] - 1s 31ms/step - loss: 0.3183 - accuracy: 0.8702 - val_loss: 0.3583 - val_accuracy: 0.8395\n",
      "Epoch 44/100\n",
      "21/21 [==============================] - ETA: 0s - loss: 0.3008 - accuracy: 0.8733\n",
      "Epoch 44: val_loss did not improve from 0.35768\n",
      "21/21 [==============================] - 1s 29ms/step - loss: 0.3008 - accuracy: 0.8733 - val_loss: 0.3583 - val_accuracy: 0.8580\n",
      "Epoch 45/100\n",
      "21/21 [==============================] - ETA: 0s - loss: 0.2839 - accuracy: 0.8764\n",
      "Epoch 45: val_loss did not improve from 0.35768\n",
      "21/21 [==============================] - 1s 33ms/step - loss: 0.2839 - accuracy: 0.8764 - val_loss: 0.3763 - val_accuracy: 0.8704\n",
      "Epoch 46/100\n",
      "20/21 [===========================>..] - ETA: 0s - loss: 0.2790 - accuracy: 0.8766\n",
      "Epoch 46: val_loss improved from 0.35768 to 0.35141, saving model to best_model_RNN_multiclass.h5\n",
      "21/21 [==============================] - 1s 35ms/step - loss: 0.2826 - accuracy: 0.8748 - val_loss: 0.3514 - val_accuracy: 0.8519\n",
      "Epoch 47/100\n",
      "20/21 [===========================>..] - ETA: 0s - loss: 0.2507 - accuracy: 0.8953\n",
      "Epoch 47: val_loss did not improve from 0.35141\n",
      "21/21 [==============================] - 1s 32ms/step - loss: 0.2518 - accuracy: 0.8934 - val_loss: 0.4142 - val_accuracy: 0.8210\n",
      "Epoch 48/100\n",
      "21/21 [==============================] - ETA: 0s - loss: 0.2860 - accuracy: 0.8856\n",
      "Epoch 48: val_loss did not improve from 0.35141\n",
      "21/21 [==============================] - 1s 31ms/step - loss: 0.2860 - accuracy: 0.8856 - val_loss: 0.3646 - val_accuracy: 0.8457\n",
      "Epoch 49/100\n",
      "20/21 [===========================>..] - ETA: 0s - loss: 0.2645 - accuracy: 0.8922\n",
      "Epoch 49: val_loss did not improve from 0.35141\n",
      "21/21 [==============================] - 1s 29ms/step - loss: 0.2632 - accuracy: 0.8918 - val_loss: 0.3934 - val_accuracy: 0.8519\n",
      "Epoch 50/100\n",
      "21/21 [==============================] - ETA: 0s - loss: 0.2535 - accuracy: 0.8980\n",
      "Epoch 50: val_loss did not improve from 0.35141\n",
      "21/21 [==============================] - 1s 32ms/step - loss: 0.2535 - accuracy: 0.8980 - val_loss: 0.4012 - val_accuracy: 0.8457\n",
      "Epoch 51/100\n",
      "21/21 [==============================] - ETA: 0s - loss: 0.2484 - accuracy: 0.8934\n",
      "Epoch 51: val_loss did not improve from 0.35141\n",
      "21/21 [==============================] - 1s 31ms/step - loss: 0.2484 - accuracy: 0.8934 - val_loss: 0.3569 - val_accuracy: 0.8395\n",
      "Epoch 52/100\n",
      "21/21 [==============================] - ETA: 0s - loss: 0.2616 - accuracy: 0.8872\n",
      "Epoch 52: val_loss did not improve from 0.35141\n",
      "21/21 [==============================] - 1s 33ms/step - loss: 0.2616 - accuracy: 0.8872 - val_loss: 0.3888 - val_accuracy: 0.8457\n",
      "Epoch 53/100\n",
      "21/21 [==============================] - ETA: 0s - loss: 0.2273 - accuracy: 0.8995\n",
      "Epoch 53: val_loss improved from 0.35141 to 0.33737, saving model to best_model_RNN_multiclass.h5\n",
      "21/21 [==============================] - 1s 34ms/step - loss: 0.2273 - accuracy: 0.8995 - val_loss: 0.3374 - val_accuracy: 0.8580\n",
      "Epoch 54/100\n",
      "20/21 [===========================>..] - ETA: 0s - loss: 0.2209 - accuracy: 0.9094\n",
      "Epoch 54: val_loss did not improve from 0.33737\n",
      "21/21 [==============================] - 1s 34ms/step - loss: 0.2215 - accuracy: 0.9088 - val_loss: 0.4167 - val_accuracy: 0.8272\n",
      "Epoch 55/100\n",
      "19/21 [==========================>...] - ETA: 0s - loss: 0.2111 - accuracy: 0.9178\n",
      "Epoch 55: val_loss did not improve from 0.33737\n",
      "21/21 [==============================] - 1s 30ms/step - loss: 0.2153 - accuracy: 0.9181 - val_loss: 0.3701 - val_accuracy: 0.8519\n",
      "Epoch 56/100\n",
      "21/21 [==============================] - ETA: 0s - loss: 0.2097 - accuracy: 0.9165\n",
      "Epoch 56: val_loss did not improve from 0.33737\n",
      "21/21 [==============================] - 1s 34ms/step - loss: 0.2097 - accuracy: 0.9165 - val_loss: 0.3478 - val_accuracy: 0.8457\n",
      "Epoch 57/100\n",
      "20/21 [===========================>..] - ETA: 0s - loss: 0.2065 - accuracy: 0.9109\n",
      "Epoch 57: val_loss did not improve from 0.33737\n",
      "21/21 [==============================] - 1s 30ms/step - loss: 0.2062 - accuracy: 0.9119 - val_loss: 0.3755 - val_accuracy: 0.8333\n",
      "Epoch 58/100\n",
      "20/21 [===========================>..] - ETA: 0s - loss: 0.2168 - accuracy: 0.9156\n",
      "Epoch 58: val_loss did not improve from 0.33737\n",
      "21/21 [==============================] - 1s 31ms/step - loss: 0.2152 - accuracy: 0.9165 - val_loss: 0.3374 - val_accuracy: 0.8704\n",
      "Epoch 59/100\n",
      "19/21 [==========================>...] - ETA: 0s - loss: 0.2103 - accuracy: 0.9128\n",
      "Epoch 59: val_loss did not improve from 0.33737\n",
      "21/21 [==============================] - 1s 33ms/step - loss: 0.2087 - accuracy: 0.9134 - val_loss: 0.3823 - val_accuracy: 0.8642\n",
      "Epoch 60/100\n",
      "20/21 [===========================>..] - ETA: 0s - loss: 0.2035 - accuracy: 0.9250\n",
      "Epoch 60: val_loss did not improve from 0.33737\n",
      "21/21 [==============================] - 1s 33ms/step - loss: 0.2023 - accuracy: 0.9258 - val_loss: 0.3712 - val_accuracy: 0.8333\n",
      "Epoch 61/100\n",
      "21/21 [==============================] - ETA: 0s - loss: 0.2054 - accuracy: 0.9227\n",
      "Epoch 61: val_loss did not improve from 0.33737\n",
      "21/21 [==============================] - 1s 29ms/step - loss: 0.2054 - accuracy: 0.9227 - val_loss: 0.4015 - val_accuracy: 0.8148\n",
      "Epoch 62/100\n",
      "21/21 [==============================] - ETA: 0s - loss: 0.1678 - accuracy: 0.9505\n",
      "Epoch 62: val_loss did not improve from 0.33737\n",
      "21/21 [==============================] - 1s 28ms/step - loss: 0.1678 - accuracy: 0.9505 - val_loss: 0.3800 - val_accuracy: 0.8148\n",
      "Epoch 63/100\n",
      "21/21 [==============================] - ETA: 0s - loss: 0.1672 - accuracy: 0.9505\n",
      "Epoch 63: val_loss did not improve from 0.33737\n",
      "21/21 [==============================] - 1s 30ms/step - loss: 0.1672 - accuracy: 0.9505 - val_loss: 0.3859 - val_accuracy: 0.8148\n",
      "Epoch 64/100\n",
      "20/21 [===========================>..] - ETA: 0s - loss: 0.1953 - accuracy: 0.9125\n",
      "Epoch 64: val_loss did not improve from 0.33737\n",
      "21/21 [==============================] - 1s 29ms/step - loss: 0.1963 - accuracy: 0.9119 - val_loss: 0.3703 - val_accuracy: 0.8457\n",
      "Epoch 65/100\n",
      "19/21 [==========================>...] - ETA: 0s - loss: 0.1951 - accuracy: 0.9260\n",
      "Epoch 65: val_loss did not improve from 0.33737\n",
      "21/21 [==============================] - 1s 32ms/step - loss: 0.1915 - accuracy: 0.9289 - val_loss: 0.4525 - val_accuracy: 0.8086\n",
      "Epoch 66/100\n",
      "21/21 [==============================] - ETA: 0s - loss: 0.1885 - accuracy: 0.9335\n",
      "Epoch 66: val_loss did not improve from 0.33737\n",
      "21/21 [==============================] - 1s 29ms/step - loss: 0.1885 - accuracy: 0.9335 - val_loss: 0.4064 - val_accuracy: 0.8519\n",
      "Epoch 67/100\n",
      "19/21 [==========================>...] - ETA: 0s - loss: 0.1941 - accuracy: 0.9243\n",
      "Epoch 67: val_loss did not improve from 0.33737\n",
      "21/21 [==============================] - 1s 31ms/step - loss: 0.1916 - accuracy: 0.9274 - val_loss: 0.3965 - val_accuracy: 0.8333\n",
      "Epoch 68/100\n",
      "20/21 [===========================>..] - ETA: 0s - loss: 0.1894 - accuracy: 0.9297\n",
      "Epoch 68: val_loss did not improve from 0.33737\n",
      "21/21 [==============================] - 1s 30ms/step - loss: 0.1946 - accuracy: 0.9289 - val_loss: 0.4390 - val_accuracy: 0.8333\n",
      "Epoch 69/100\n",
      "20/21 [===========================>..] - ETA: 0s - loss: 0.2026 - accuracy: 0.9266\n",
      "Epoch 69: val_loss did not improve from 0.33737\n",
      "21/21 [==============================] - 1s 31ms/step - loss: 0.2006 - accuracy: 0.9274 - val_loss: 0.5169 - val_accuracy: 0.7963\n",
      "Epoch 70/100\n",
      "21/21 [==============================] - ETA: 0s - loss: 0.2432 - accuracy: 0.8949\n",
      "Epoch 70: val_loss did not improve from 0.33737\n",
      "21/21 [==============================] - 1s 34ms/step - loss: 0.2432 - accuracy: 0.8949 - val_loss: 0.4025 - val_accuracy: 0.8395\n",
      "Epoch 71/100\n",
      "19/21 [==========================>...] - ETA: 0s - loss: 0.1691 - accuracy: 0.9359\n",
      "Epoch 71: val_loss did not improve from 0.33737\n",
      "21/21 [==============================] - 1s 31ms/step - loss: 0.1653 - accuracy: 0.9366 - val_loss: 0.3772 - val_accuracy: 0.8580\n",
      "Epoch 72/100\n",
      "19/21 [==========================>...] - ETA: 0s - loss: 0.1718 - accuracy: 0.9359\n",
      "Epoch 72: val_loss did not improve from 0.33737\n",
      "21/21 [==============================] - 1s 28ms/step - loss: 0.1680 - accuracy: 0.9382 - val_loss: 0.3928 - val_accuracy: 0.8519\n",
      "Epoch 73/100\n",
      "21/21 [==============================] - ETA: 0s - loss: 0.1952 - accuracy: 0.9243\n",
      "Epoch 73: val_loss did not improve from 0.33737\n",
      "21/21 [==============================] - 1s 29ms/step - loss: 0.1952 - accuracy: 0.9243 - val_loss: 0.3748 - val_accuracy: 0.8642\n"
     ]
    }
   ],
   "source": [
    "history = model.fit(X_train_reshaped, y_train, epochs=100, batch_size=32, validation_split=0.2, callbacks=[checkpoint, early_stopping])"
   ]
  },
  {
   "cell_type": "code",
   "execution_count": 18,
   "id": "329c3962-10a9-4105-8ff2-196c457d7cdc",
   "metadata": {},
   "outputs": [],
   "source": [
    "import tensorflow as tf\n",
    "best_model = tf.keras.models.load_model('best_model_RNN_multiclass.h5')"
   ]
  },
  {
   "cell_type": "code",
   "execution_count": 19,
   "id": "40c0c3bf-b5f5-47f4-9dfb-44dfc154ba32",
   "metadata": {},
   "outputs": [
    {
     "name": "stdout",
     "output_type": "stream",
     "text": [
      "7/7 [==============================] - 1s 15ms/step - loss: 0.3981 - accuracy: 0.8571\n",
      "Evaluation Results - Loss: 0.39809393882751465, Accuracy: 0.8571428656578064\n"
     ]
    }
   ],
   "source": [
    "evaluation = best_model.evaluate(X_test_reshaped, y_test)\n",
    "print(f\"Evaluation Results - Loss: {evaluation[0]}, Accuracy: {evaluation[1]}\")"
   ]
  },
  {
   "cell_type": "code",
   "execution_count": 20,
   "id": "2e6417a9-409f-478e-bf19-3b0795b00598",
   "metadata": {},
   "outputs": [
    {
     "name": "stdout",
     "output_type": "stream",
     "text": [
      "7/7 [==============================] - 0s 10ms/step\n"
     ]
    }
   ],
   "source": [
    "y_pred = best_model.predict(X_test_reshaped)\n",
    "y_pred_classes = y_pred.argmax(axis=1)"
   ]
  },
  {
   "cell_type": "code",
   "execution_count": 21,
   "id": "35bc75c6-131d-4e30-a65d-b954fb741a2b",
   "metadata": {},
   "outputs": [
    {
     "name": "stdout",
     "output_type": "stream",
     "text": [
      "Accuracy Score: 0.8571428571428571\n"
     ]
    }
   ],
   "source": [
    "from sklearn.metrics import classification_report, confusion_matrix, accuracy_score\n",
    "accuracy = accuracy_score(y_test, y_pred_classes)\n",
    "print(f\"Accuracy Score: {accuracy}\")"
   ]
  },
  {
   "cell_type": "markdown",
   "id": "078cfaab-04f9-4fe0-a1b0-be5ece34db41",
   "metadata": {},
   "source": [
    "### Classification report"
   ]
  },
  {
   "cell_type": "code",
   "execution_count": 22,
   "id": "625a6f16-3102-4a87-b058-f29019e8e8af",
   "metadata": {},
   "outputs": [
    {
     "name": "stdout",
     "output_type": "stream",
     "text": [
      "              precision    recall  f1-score   support\n",
      "\n",
      "           0       0.83      0.89      0.86        65\n",
      "           1       0.84      0.76      0.79        74\n",
      "           2       0.91      0.94      0.92        64\n",
      "\n",
      "    accuracy                           0.86       203\n",
      "   macro avg       0.86      0.86      0.86       203\n",
      "weighted avg       0.86      0.86      0.86       203\n",
      "\n"
     ]
    }
   ],
   "source": [
    "report = classification_report(y_test, y_pred_classes)\n",
    "print(report)"
   ]
  },
  {
   "cell_type": "code",
   "execution_count": 23,
   "id": "f08f54d7-885d-4853-aea8-5ef6b9ff2a95",
   "metadata": {},
   "outputs": [
    {
     "data": {
      "image/png": "[encoded data removed]",
      "text/plain": [
       "<Figure size 1000x700 with 2 Axes>"
      ]
     },
     "metadata": {},
     "output_type": "display_data"
    }
   ],
   "source": [
    "conf_matrix = confusion_matrix(y_test, y_pred_classes)\n",
    "plt.figure(figsize=(10, 7))\n",
    "sns.heatmap(conf_matrix, annot=True, fmt='d', cmap='Blues')\n",
    "plt.xlabel('Predicted')\n",
    "plt.ylabel('Actual')\n",
    "plt.title('Confusion Matrix')\n",
    "plt.show()"
   ]
  },
  {
   "cell_type": "code",
   "execution_count": null,
   "id": "2767b4db-1430-4ecc-b803-d237dad90498",
   "metadata": {},
   "outputs": [],
   "source": []
  }
 ],
 "metadata": {
  "kernelspec": {
   "display_name": "“Python(gpu)”",
   "language": "python",
   "name": "gputest"
  },
  "language_info": {
   "codemirror_mode": {
    "name": "ipython",
    "version": 3
   },
   "file_extension": ".py",
   "mimetype": "text/x-python",
   "name": "python",
   "nbconvert_exporter": "python",
   "pygments_lexer": "ipython3",
   "version": "3.8.19"
  }
 },
 "nbformat": 4,
 "nbformat_minor": 5
}
